{
 "cells": [
  {
   "cell_type": "code",
   "execution_count": null,
   "metadata": {
    "collapsed": true
   },
   "outputs": [],
   "source": [
    "import _pickle as pickle\n",
    "\n",
    "data_path = '/tmp/ising_flow/lattice_16.pkl'\n",
    "with open(data_path, 'rb') as f:\n",
    "    data = pickle.load(f)"
   ]
  },
  {
   "cell_type": "code",
   "execution_count": null,
   "metadata": {
    "collapsed": true
   },
   "outputs": [],
   "source": [
    "#----------------------------------------------------------------------     \n",
    "# Plot the Energy, Magnetization, Specific Heat and Susceptibility\n",
    "#----------------------------------------------------------------------\n",
    "f = plt.figure(figsize=(18, 10), dpi=80, facecolor='w', edgecolor='k');    \n",
    "\n",
    "sp =  f.add_subplot(2, 2, 1 );\n",
    "plt.plot(data['Temperature'], data['Energy'], 'o', color=\"#A60628\", label=' Energy');\n",
    "plt.xlabel(\"Temperature (T)\", fontsize=20);\n",
    "plt.ylabel(\"Energy \", fontsize=20);\n",
    "\n",
    "sp =  f.add_subplot(2, 2, 2 );\n",
    "plt.plot(data['Temperature'], data['Magnetization'], '*', color=\"#348ABD\", label='Magnetization');\n",
    "plt.xlabel(\"Temperature (T)\", fontsize=20);\n",
    "plt.ylabel(\"Magnetization \", fontsize=20);\n",
    "\n",
    "\n",
    "sp =  f.add_subplot(2, 2, 3 );\n",
    "plt.plot(data['Temperature'], data['Heat_capacity'], 'd', color=\"black\", label='Specific Heat');\n",
    "plt.xlabel(\"Temperature (T)\", fontsize=20);\n",
    "plt.ylabel(\"Specific Heat \", fontsize=20);\n",
    "\n",
    "\n",
    "sp =  f.add_subplot(2, 2, 4 );\n",
    "plt.plot(data['Temperature'], data['Susceptibility'], '+', color=\"green\", label='Specific Heat');\n",
    "plt.xlabel(\"Temperature (T)\", fontsize=20);\n",
    "plt.ylabel(\"Susceptibility\", fontsize=20);\n",
    "plt.show()\n",
    "#plt.legend(loc='best', fontsize=15); \n",
    "#----------------------------------------------------------------------"
   ]
  }
 ],
 "metadata": {
  "kernelspec": {
   "display_name": "Python [conda env:baselines]",
   "language": "python",
   "name": "conda-env-baselines-py"
  },
  "language_info": {
   "codemirror_mode": {
    "name": "ipython",
    "version": 3
   },
   "file_extension": ".py",
   "mimetype": "text/x-python",
   "name": "python",
   "nbconvert_exporter": "python",
   "pygments_lexer": "ipython3",
   "version": "3.6.1"
  }
 },
 "nbformat": 4,
 "nbformat_minor": 2
}
